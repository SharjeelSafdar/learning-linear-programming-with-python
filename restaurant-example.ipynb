{
 "cells": [
  {
   "cell_type": "markdown",
   "metadata": {},
   "source": [
    "## Maximize Revenue w.r.t. Ingredients (Chicken only)"
   ]
  },
  {
   "cell_type": "code",
   "execution_count": 53,
   "metadata": {},
   "outputs": [],
   "source": [
    "from pulp import LpProblem, LpMaximize, LpVariable, lpSum, constants, LpStatus"
   ]
  },
  {
   "cell_type": "markdown",
   "metadata": {},
   "source": [
    "List of menu items"
   ]
  },
  {
   "cell_type": "code",
   "execution_count": 54,
   "metadata": {},
   "outputs": [],
   "source": [
    "menuItems = [\n",
    "  \"BABY BACK RIBS\",\n",
    "  \"CHICKEN CARVER SANDWICH\",\n",
    "  \"CHICKEN POT PIE\",\n",
    "  \"CHICKEN SALAD SANDWICH\",\n",
    "  \"FAMILY MEAL\",\n",
    "  \"HALF ROTISSERIE CHICKEN\",\n",
    "  \"HOMESTYLE MEATLOAF\",\n",
    "  \"MEATLOAF SANDWICH\",\n",
    "  \"NASHVILLE HOT CHICKEN SANDWICH\",\n",
    "  \"NASHVILLE HOT CRISPY CHICKEN\",\n",
    "  \"PRIME RIB\",\n",
    "  \"QUARTER WHITE ROTISSERIE CHICKEN\",\n",
    "  \"ROASTED TURKEY BREAST\",\n",
    "  \"THREE PIECE DARK ROTISSERIE CHICKEN\",\n",
    "  \"TURKEY CARVER SANDWICH\",\n",
    "  \"ROTISSERIE CHICKEN NOODLE SOUP\",\n",
    "]"
   ]
  },
  {
   "cell_type": "markdown",
   "metadata": {},
   "source": [
    "Fraction of ingredients required to make each menu item"
   ]
  },
  {
   "cell_type": "code",
   "execution_count": 55,
   "metadata": {},
   "outputs": [
    {
     "name": "stdout",
     "output_type": "stream",
     "text": [
      "16\n"
     ]
    }
   ],
   "source": [
    "# Fraction of chickens required to make each menu item\n",
    "chcikenPercents = [0, 0.125, 0.125, 0.125, 1, 0.5, 0, 0, 0.125, 0.25, 0, 0.25, 0, 0.25, 0, 0.061]\n",
    "print(len(chcikenPercents))"
   ]
  },
  {
   "cell_type": "code",
   "execution_count": 56,
   "metadata": {},
   "outputs": [
    {
     "name": "stdout",
     "output_type": "stream",
     "text": [
      "16\n"
     ]
    }
   ],
   "source": [
    "# Fraction of ribs required to make each menu item\n",
    "ribsPercents = [0.25, 0, 0, 0, 0, 0, 0, 0, 0, 0, 0, 0, 0, 0, 0, 0]\n",
    "print(len(ribsPercents))"
   ]
  },
  {
   "cell_type": "code",
   "execution_count": 57,
   "metadata": {},
   "outputs": [
    {
     "name": "stdout",
     "output_type": "stream",
     "text": [
      "16\n"
     ]
    }
   ],
   "source": [
    "# Fraction of meatloafs required to make each menu item\n",
    "meatloafPercents = [0, 0, 0, 0, 0, 0, 0.25, 0.125, 0, 0, 0, 0, 0, 0, 0, 0]\n",
    "print(len(meatloafPercents))"
   ]
  },
  {
   "cell_type": "code",
   "execution_count": 58,
   "metadata": {},
   "outputs": [
    {
     "name": "stdout",
     "output_type": "stream",
     "text": [
      "16\n"
     ]
    }
   ],
   "source": [
    "# Fraction of primalRibs required to make each menu item\n",
    "primalribPercents = [0.25, 0, 0, 0, 0, 0, 0, 0, 0, 0, 0, 0, 0, 0, 0, 0]\n",
    "print(len(primalribPercents))"
   ]
  },
  {
   "cell_type": "code",
   "execution_count": 59,
   "metadata": {},
   "outputs": [
    {
     "name": "stdout",
     "output_type": "stream",
     "text": [
      "16\n"
     ]
    }
   ],
   "source": [
    "# Fraction of turkey breasts required to make each menu item\n",
    "turkeyBreastPercents = [0, 0, 0, 0, 0, 0, 0, 0, 0, 0, 0, 0, 0.25, 0, 0.125, 0]\n",
    "print(len(turkeyBreastPercents))"
   ]
  },
  {
   "cell_type": "markdown",
   "metadata": {},
   "source": [
    "Marginal revenue for each menu item"
   ]
  },
  {
   "cell_type": "code",
   "execution_count": 60,
   "metadata": {},
   "outputs": [
    {
     "name": "stdout",
     "output_type": "stream",
     "text": [
      "16\n"
     ]
    }
   ],
   "source": [
    "revenues = [15.99, 9.49, 8.49, 8.99, 26.49, 11.99, 10.99, 9.49, 6.99, 12.99, 22.99, 10.99, 10.99, 10.99, 9.49, 5.49]\n",
    "print(len(revenues))"
   ]
  },
  {
   "cell_type": "markdown",
   "metadata": {},
   "source": [
    "Constraints on the quantities of ingredients available"
   ]
  },
  {
   "cell_type": "code",
   "execution_count": 61,
   "metadata": {},
   "outputs": [],
   "source": [
    "minNumChickens = 50\n",
    "maxNumChickens = 300\n",
    "\n",
    "minNumRibs = 30\n",
    "maxNumRibs = 70\n",
    "\n",
    "minNumMeatLoaf = 70\n",
    "maxNumMeatLoaf = 150\n",
    "\n",
    "minNumPrimalribs = 20\n",
    "maxNumPrimalribs = 40\n",
    "\n",
    "minNumTurkeyBreasts = 40\n",
    "maxNumTurkeyBreasts = 70\n",
    "\n",
    "maxTotalItems = 10000"
   ]
  },
  {
   "cell_type": "code",
   "execution_count": 62,
   "metadata": {},
   "outputs": [
    {
     "name": "stdout",
     "output_type": "stream",
     "text": [
      "Status: 1, Optimal\n",
      "Objective: 224675.49999999994\n",
      "x_BABY_BACK_RIBS: 120.0\n",
      "x_CHICKEN_CARVER_SANDWICH: 1.0\n",
      "x_CHICKEN_POT_PIE: 1.0\n",
      "x_CHICKEN_SALAD_SANDWICH: 1.0\n",
      "x_FAMILY_MEAL: 298.0\n",
      "x_HALF_ROTISSERIE_CHICKEN: 1.0\n",
      "x_HOMESTYLE_MEATLOAF: 280.0\n",
      "x_MEATLOAF_SANDWICH: 1.0\n",
      "x_NASHVILLE_HOT_CHICKEN_SANDWICH: 1.0\n",
      "x_NASHVILLE_HOT_CRISPY_CHICKEN: 1.0\n",
      "x_PRIME_RIB: 9131.0\n",
      "x_QUARTER_WHITE_ROTISSERIE_CHICKEN: 1.0\n",
      "x_ROASTED_TURKEY_BREAST: 160.0\n",
      "x_THREE_PIECE_DARK_ROTISSERIE_CHICKEN: 1.0\n",
      "x_TURKEY_CARVER_SANDWICH: 1.0\n",
      "x_ROTISSERIE_CHICKEN_NOODLE_SOUP: 1.0\n",
      "_C1: 0.0\n",
      "_C2: 249.811\n",
      "_C3: -0.189\n",
      "_C4: 0.0\n",
      "_C5: -40.0\n",
      "_C6: 0.125\n",
      "_C7: -79.875\n",
      "_C8: 10.0\n",
      "_C9: -10.0\n",
      "_C10: 0.125\n",
      "_C11: -29.875\n",
      "_C12: 119.0\n",
      "_C13: 0.0\n",
      "_C14: 0.0\n",
      "_C15: 0.0\n",
      "_C16: 297.0\n",
      "_C17: 0.0\n",
      "_C18: 279.0\n",
      "_C19: 0.0\n",
      "_C20: 0.0\n",
      "_C21: 0.0\n",
      "_C22: 9130.0\n",
      "_C23: 0.0\n",
      "_C24: 159.0\n",
      "_C25: 0.0\n",
      "_C26: 0.0\n",
      "_C27: 0.0\n"
     ]
    }
   ],
   "source": [
    "# Define the model\n",
    "model = LpProblem(name=\"chicken-only\", sense=LpMaximize)\n",
    "\n",
    "# Define the decision variables, number of units to sell for eact menu item.\n",
    "x = { \n",
    "  i: LpVariable(f\"x-{itemName}\", lowBound=0, cat=constants.LpInteger)\n",
    "    for i, itemName in enumerate(menuItems)\n",
    "}\n",
    "\n",
    "# Add constraints\n",
    "# Maximum number of menu items that can be produced each day\n",
    "model += lpSum(list(x.values())) <= maxTotalItems\n",
    "\n",
    "# Constraints for number of chickens available\n",
    "model += lpSum([chcikenPercents[i] * x[i] for i in range(len(menuItems))]) >= minNumChickens\n",
    "model += lpSum([chcikenPercents[i] * x[i] for i in range(len(menuItems))]) <= maxNumChickens\n",
    "\n",
    "# Constraints for number of ribs available\n",
    "model += lpSum([ribsPercents[i] * x[i] for i in range(len(menuItems))]) >= minNumRibs\n",
    "model += lpSum([ribsPercents[i] * x[i] for i in range(len(menuItems))]) <= maxNumRibs\n",
    "\n",
    "# Constraints for number of meatloafs available\n",
    "model += lpSum([meatloafPercents[i] * x[i] for i in range(len(menuItems))]) >= minNumMeatLoaf\n",
    "model += lpSum([meatloafPercents[i] * x[i] for i in range(len(menuItems))]) <= maxNumMeatLoaf\n",
    "\n",
    "# Constraints for number of primal ribs available\n",
    "model += lpSum([primalribPercents[i] * x[i] for i in range(len(menuItems))]) >= minNumPrimalribs\n",
    "model += lpSum([primalribPercents[i] * x[i] for i in range(len(menuItems))]) <= maxNumPrimalribs\n",
    "\n",
    "# Constraints for number of turkey breasts available\n",
    "model += lpSum([turkeyBreastPercents[i] * x[i] for i in range(len(menuItems))]) >= minNumTurkeyBreasts\n",
    "model += lpSum([turkeyBreastPercents[i] * x[i] for i in range(len(menuItems))]) <= maxNumTurkeyBreasts\n",
    "\n",
    "for (i, _) in enumerate(x):\n",
    "  model += lpSum([x[i]]) >= 1\n",
    "\n",
    "# Set the objective function\n",
    "# which is to maximize revenue (sum of revenues for all menu items)\n",
    "model += lpSum([revenues[i] * x[i] for i in range(len(menuItems))])\n",
    "\n",
    "# Solve the optimization problem\n",
    "model.solve()\n",
    "\n",
    "# Get the results\n",
    "print(f\"Status: {model.status}, {LpStatus[model.status]}\")\n",
    "print(f\"Objective: {model.objective.value()}\")\n",
    "\n",
    "for var in x.values():\n",
    "  print(f\"{var.name}: {var.value()}\")\n",
    "\n",
    "for name, constraint in model.constraints.items():\n",
    "  print(f\"{name}: {constraint.value()}\")"
   ]
  },
  {
   "cell_type": "markdown",
   "metadata": {},
   "source": [
    "Number of each menu item to sell to maximize the objective function"
   ]
  },
  {
   "cell_type": "code",
   "execution_count": 63,
   "metadata": {},
   "outputs": [
    {
     "data": {
      "text/plain": [
       "[120.0,\n",
       " 1.0,\n",
       " 1.0,\n",
       " 1.0,\n",
       " 298.0,\n",
       " 1.0,\n",
       " 280.0,\n",
       " 1.0,\n",
       " 1.0,\n",
       " 1.0,\n",
       " 9131.0,\n",
       " 1.0,\n",
       " 160.0,\n",
       " 1.0,\n",
       " 1.0,\n",
       " 1.0]"
      ]
     },
     "execution_count": 63,
     "metadata": {},
     "output_type": "execute_result"
    }
   ],
   "source": [
    "values = [x.value() for x in x.values()]\n",
    "values"
   ]
  },
  {
   "cell_type": "markdown",
   "metadata": {},
   "source": [
    "Weights to use for modifying recommendations"
   ]
  },
  {
   "cell_type": "code",
   "execution_count": 64,
   "metadata": {},
   "outputs": [],
   "source": [
    "piOptimal = [value / sum(values) for value in values]\n",
    "w = piOptimal"
   ]
  },
  {
   "cell_type": "markdown",
   "metadata": {},
   "source": [
    "Current weights for recommending menu items"
   ]
  },
  {
   "cell_type": "code",
   "execution_count": 65,
   "metadata": {},
   "outputs": [],
   "source": [
    "# probabilities based on \n",
    "currentRecc = [0, 0.0768, 0, 0.35789, 0.01053, 0, 0, 0, 0, 0, 0, 0.04211, 0, 0, 0.16842, 0.34737]"
   ]
  },
  {
   "cell_type": "markdown",
   "metadata": {},
   "source": [
    "Menu items sorted according to the weights generated by the linear model"
   ]
  },
  {
   "cell_type": "code",
   "execution_count": 66,
   "metadata": {},
   "outputs": [],
   "source": [
    "a = { menuItems[i]: w[i] for i in range(len(menuItems)) }\n",
    "a = [item for item in a.items()]\n",
    "a.sort(key=lambda _: _[1], reverse=True)\n",
    "a = { key: value for (key, value) in a }\n",
    "# for (i, item) in enumerate(a.items()):\n",
    "#   print(f\"{i + 1}. {item[0]}: {item[1]}\")"
   ]
  },
  {
   "cell_type": "markdown",
   "metadata": {},
   "source": [
    "Calculate new weights incorporating old weights and the weights generated by the linear model"
   ]
  },
  {
   "cell_type": "code",
   "execution_count": 67,
   "metadata": {},
   "outputs": [],
   "source": [
    "b = { menuItems[i]: (w[i] + currentRecc[i]) / 2 for i in range(len(menuItems)) }"
   ]
  },
  {
   "cell_type": "markdown",
   "metadata": {},
   "source": [
    "Menu items sorted according to the new weights"
   ]
  },
  {
   "cell_type": "code",
   "execution_count": 68,
   "metadata": {},
   "outputs": [],
   "source": [
    "b = [item for item in b.items()]\n",
    "b.sort(key=lambda _: _[1], reverse=True)\n",
    "b = { key: value for (key, value) in b }\n",
    "# for (i, item) in enumerate(b.items()):\n",
    "#   print(f\"{i + 1}. {item[0]}: {item[1]}\")"
   ]
  },
  {
   "cell_type": "markdown",
   "metadata": {},
   "source": [
    "Compare results with old weights and new weights"
   ]
  },
  {
   "cell_type": "code",
   "execution_count": 69,
   "metadata": {},
   "outputs": [
    {
     "name": "stdout",
     "output_type": "stream",
     "text": [
      "1. PRIME RIB: 0.9131                               1. PRIME RIB: 0.45655\n",
      "2. FAMILY MEAL: 0.0298                             2. CHICKEN SALAD SANDWICH: 0.178995\n",
      "3. HOMESTYLE MEATLOAF: 0.028                       3. ROTISSERIE CHICKEN NOODLE SOUP: 0.173735\n",
      "4. ROASTED TURKEY BREAST: 0.016                    4. TURKEY CARVER SANDWICH: 0.08425999999999999\n",
      "5. BABY BACK RIBS: 0.012                           5. CHICKEN CARVER SANDWICH: 0.03845\n",
      "6. CHICKEN CARVER SANDWICH: 0.0001                 6. QUARTER WHITE ROTISSERIE CHICKEN: 0.021105000000000002\n",
      "7. CHICKEN POT PIE: 0.0001                         7. FAMILY MEAL: 0.020165\n",
      "8. CHICKEN SALAD SANDWICH: 0.0001                  8. HOMESTYLE MEATLOAF: 0.014\n",
      "9. HALF ROTISSERIE CHICKEN: 0.0001                 9. ROASTED TURKEY BREAST: 0.008\n",
      "10. MEATLOAF SANDWICH: 0.0001                      10. BABY BACK RIBS: 0.006\n",
      "11. NASHVILLE HOT CHICKEN SANDWICH: 0.0001         11. CHICKEN POT PIE: 5e-05\n",
      "12. NASHVILLE HOT CRISPY CHICKEN: 0.0001           12. HALF ROTISSERIE CHICKEN: 5e-05\n",
      "13. QUARTER WHITE ROTISSERIE CHICKEN: 0.0001       13. MEATLOAF SANDWICH: 5e-05\n",
      "14. THREE PIECE DARK ROTISSERIE CHICKEN: 0.0001    14. NASHVILLE HOT CHICKEN SANDWICH: 5e-05\n",
      "15. TURKEY CARVER SANDWICH: 0.0001                 15. NASHVILLE HOT CRISPY CHICKEN: 5e-05\n",
      "16. ROTISSERIE CHICKEN NOODLE SOUP: 0.0001         16. THREE PIECE DARK ROTISSERIE CHICKEN: 5e-05\n"
     ]
    }
   ],
   "source": [
    "before = list(a.items())\n",
    "after = list(b.items())\n",
    "for i in range(len(before)):\n",
    "  print(f\"{i + 1}. {before[i][0]}: {before[i][1]}\".ljust(50, \" \"), f\"{i+1}. {after[i][0]}: {after[i][1]}\")"
   ]
  },
  {
   "cell_type": "code",
   "execution_count": null,
   "metadata": {},
   "outputs": [],
   "source": []
  }
 ],
 "metadata": {
  "interpreter": {
   "hash": "24dcdd950cd707d7ff5fe8a4f914185fe97cb5fdc83bcc4144ddf80dcd091cfc"
  },
  "kernelspec": {
   "display_name": "Python 3.10.2 ('env': venv)",
   "language": "python",
   "name": "python3"
  },
  "language_info": {
   "codemirror_mode": {
    "name": "ipython",
    "version": 3
   },
   "file_extension": ".py",
   "mimetype": "text/x-python",
   "name": "python",
   "nbconvert_exporter": "python",
   "pygments_lexer": "ipython3",
   "version": "3.10.2"
  },
  "orig_nbformat": 4
 },
 "nbformat": 4,
 "nbformat_minor": 2
}
