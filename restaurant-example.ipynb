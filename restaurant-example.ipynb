{
 "cells": [
  {
   "cell_type": "markdown",
   "metadata": {},
   "source": [
    "## Maximize Revenue w.r.t. Ingredients (Chicken only)"
   ]
  },
  {
   "cell_type": "code",
   "execution_count": 1,
   "metadata": {},
   "outputs": [],
   "source": [
    "from pulp import LpProblem, LpMaximize, LpVariable, lpSum, constants, LpStatus"
   ]
  },
  {
   "cell_type": "code",
   "execution_count": 2,
   "metadata": {},
   "outputs": [],
   "source": [
    "menuItems = [\n",
    "  \"BABY BACK RIBS\",\n",
    "  \"CHICKEN CARVER SANDWICH\",\n",
    "  \"CHICKEN POT PIE\",\n",
    "  \"CHICKEN SALAD SANDWICH\",\n",
    "  \"FAMILY MEAL\",\n",
    "  \"HALF ROTISSERIE CHICKEN\",\n",
    "  \"HOMESTYLE MEATLOAF\",\n",
    "  \"MEATLOAF SANDWICH\",\n",
    "  \"NASHVILLE HOT CHICKEN SANDWICH\",\n",
    "  \"NASHVILLE HOT CRISPY CHICKEN\",\n",
    "  \"PRIME RIB\",\n",
    "  \"QUARTER WHITE ROTISSERIE CHICKEN\",\n",
    "  \"ROASTED TURKEY BREAST\",\n",
    "  \"THREE PIECE DARK ROTISSERIE CHICKEN\",\n",
    "  \"TURKEY CARVER SANDWICH\",\n",
    "  \"ROTISSERIE CHICKEN NOODLE SOUP\",\n",
    "]"
   ]
  },
  {
   "cell_type": "code",
   "execution_count": 3,
   "metadata": {},
   "outputs": [
    {
     "name": "stdout",
     "output_type": "stream",
     "text": [
      "16\n"
     ]
    }
   ],
   "source": [
    "chcikenPercents = [0, 0.125, 0.125, 0.125, 1, 0.5, 0, 0, 0.125, 0.25, 0, 0.25, 0, 0.25, 0, 0.061]\n",
    "print(len(chcikenPercents))"
   ]
  },
  {
   "cell_type": "code",
   "execution_count": 4,
   "metadata": {},
   "outputs": [
    {
     "name": "stdout",
     "output_type": "stream",
     "text": [
      "16\n"
     ]
    }
   ],
   "source": [
    "ribsPercents = [0.25, 0, 0, 0, 0, 0, 0, 0, 0, 0, 0, 0, 0, 0, 0, 0]\n",
    "print(len(ribsPercents))"
   ]
  },
  {
   "cell_type": "code",
   "execution_count": 5,
   "metadata": {},
   "outputs": [
    {
     "name": "stdout",
     "output_type": "stream",
     "text": [
      "16\n"
     ]
    }
   ],
   "source": [
    "meatloafPercents = [0, 0, 0, 0, 0, 0, 0.25, 0.125, 0, 0, 0, 0, 0, 0, 0, 0]\n",
    "print(len(meatloafPercents))"
   ]
  },
  {
   "cell_type": "code",
   "execution_count": 6,
   "metadata": {},
   "outputs": [
    {
     "name": "stdout",
     "output_type": "stream",
     "text": [
      "16\n"
     ]
    }
   ],
   "source": [
    "primalribPercents = [0.25, 0, 0, 0, 0, 0, 0, 0, 0, 0, 0, 0, 0, 0, 0, 0]\n",
    "print(len(primalribPercents))"
   ]
  },
  {
   "cell_type": "code",
   "execution_count": 7,
   "metadata": {},
   "outputs": [
    {
     "name": "stdout",
     "output_type": "stream",
     "text": [
      "16\n"
     ]
    }
   ],
   "source": [
    "turkeyBreastPercents = [0, 0, 0, 0, 0, 0, 0, 0, 0, 0, 0, 0, 0.25, 0, 0.125, 0]\n",
    "print(len(turkeyBreastPercents))"
   ]
  },
  {
   "cell_type": "code",
   "execution_count": 8,
   "metadata": {},
   "outputs": [
    {
     "name": "stdout",
     "output_type": "stream",
     "text": [
      "16\n"
     ]
    }
   ],
   "source": [
    "revenues = [15.99, 9.49, 8.49, 8.99, 26.49, 11.99, 10.99, 9.49, 6.99, 12.99, 22.99, 10.99, 10.99, 10.99, 9.49, 5.49]\n",
    "print(len(revenues))"
   ]
  },
  {
   "cell_type": "code",
   "execution_count": 10,
   "metadata": {},
   "outputs": [],
   "source": [
    "minNumChickens = 50\n",
    "maxNumChickens = 300\n",
    "\n",
    "minNumRibs = 30\n",
    "maxNumRibs = 70\n",
    "\n",
    "minNumMeatLoaf = 70\n",
    "maxNumMeatLoaf = 150\n",
    "\n",
    "minNumPrimalribs = 20\n",
    "maxNumPrimalribs = 40\n",
    "\n",
    "minNumTurkeyBreasts = 40\n",
    "maxNumTurkeyBreasts = 70\n",
    "\n",
    "maxTotalItems = 10000"
   ]
  },
  {
   "cell_type": "code",
   "execution_count": 17,
   "metadata": {},
   "outputs": [
    {
     "name": "stdout",
     "output_type": "stream",
     "text": [
      "Status: 1, Optimal\n",
      "Objective: 224829.99999999997\n",
      "x_BABY_BACK_RIBS: 120.0\n",
      "x_CHICKEN_CARVER_SANDWICH: 0.0\n",
      "x_CHICKEN_POT_PIE: 0.0\n",
      "x_CHICKEN_SALAD_SANDWICH: 0.0\n",
      "x_FAMILY_MEAL: 300.0\n",
      "x_HALF_ROTISSERIE_CHICKEN: 0.0\n",
      "x_HOMESTYLE_MEATLOAF: 280.0\n",
      "x_MEATLOAF_SANDWICH: 0.0\n",
      "x_NASHVILLE_HOT_CHICKEN_SANDWICH: 0.0\n",
      "x_NASHVILLE_HOT_CRISPY_CHICKEN: 0.0\n",
      "x_PRIME_RIB: 9140.0\n",
      "x_QUARTER_WHITE_ROTISSERIE_CHICKEN: 0.0\n",
      "x_ROASTED_TURKEY_BREAST: 160.0\n",
      "x_THREE_PIECE_DARK_ROTISSERIE_CHICKEN: 0.0\n",
      "x_TURKEY_CARVER_SANDWICH: 0.0\n",
      "x_ROTISSERIE_CHICKEN_NOODLE_SOUP: 0.0\n",
      "_C1: 0.0\n",
      "_C2: 250.0\n",
      "_C3: 0.0\n",
      "_C4: 0.0\n",
      "_C5: -40.0\n",
      "_C6: 0.0\n",
      "_C7: -80.0\n",
      "_C8: 10.0\n",
      "_C9: -10.0\n",
      "_C10: 0.0\n",
      "_C11: -30.0\n"
     ]
    }
   ],
   "source": [
    "# Define the model\n",
    "model = LpProblem(name=\"chicken-only\", sense=LpMaximize)\n",
    "\n",
    "# Define the decision variables, number of units to sell for eact menu item.\n",
    "x = { \n",
    "  i: LpVariable(f\"x-{itemName}\", lowBound=0, cat=constants.LpInteger)\n",
    "    for i, itemName in enumerate(menuItems)\n",
    "}\n",
    "\n",
    "# Add constraints\n",
    "model += lpSum(list(x.values())) <= maxTotalItems\n",
    "model += lpSum([chcikenPercents[i] * x[i] for i in range(len(menuItems))]) >= minNumChickens\n",
    "model += lpSum([chcikenPercents[i] * x[i] for i in range(len(menuItems))]) <= maxNumChickens\n",
    "model += lpSum([ribsPercents[i] * x[i] for i in range(len(menuItems))]) >= minNumRibs\n",
    "model += lpSum([ribsPercents[i] * x[i] for i in range(len(menuItems))]) <= maxNumRibs\n",
    "model += lpSum([meatloafPercents[i] * x[i] for i in range(len(menuItems))]) >= minNumMeatLoaf\n",
    "model += lpSum([meatloafPercents[i] * x[i] for i in range(len(menuItems))]) <= maxNumMeatLoaf\n",
    "model += lpSum([primalribPercents[i] * x[i] for i in range(len(menuItems))]) >= minNumPrimalribs\n",
    "model += lpSum([primalribPercents[i] * x[i] for i in range(len(menuItems))]) <= maxNumPrimalribs\n",
    "model += lpSum([turkeyBreastPercents[i] * x[i] for i in range(len(menuItems))]) >= minNumTurkeyBreasts\n",
    "model += lpSum([turkeyBreastPercents[i] * x[i] for i in range(len(menuItems))]) <= maxNumTurkeyBreasts\n",
    "\n",
    "# Set the objective\n",
    "model += lpSum([revenues[i] * x[i] for i in range(len(menuItems))])\n",
    "\n",
    "# Solve the optimization problem\n",
    "model.solve()\n",
    "\n",
    "# Get the results\n",
    "print(f\"Status: {model.status}, {LpStatus[model.status]}\")\n",
    "print(f\"Objective: {model.objective.value()}\")\n",
    "\n",
    "for var in x.values():\n",
    "  print(f\"{var.name}: {var.value()}\")\n",
    "\n",
    "for name, constraint in model.constraints.items():\n",
    "  print(f\"{name}: {constraint.value()}\")"
   ]
  },
  {
   "cell_type": "code",
   "execution_count": 20,
   "metadata": {},
   "outputs": [
    {
     "data": {
      "text/plain": [
       "[120.0,\n",
       " 0.0,\n",
       " 0.0,\n",
       " 0.0,\n",
       " 300.0,\n",
       " 0.0,\n",
       " 280.0,\n",
       " 0.0,\n",
       " 0.0,\n",
       " 0.0,\n",
       " 9140.0,\n",
       " 0.0,\n",
       " 160.0,\n",
       " 0.0,\n",
       " 0.0,\n",
       " 0.0]"
      ]
     },
     "execution_count": 20,
     "metadata": {},
     "output_type": "execute_result"
    }
   ],
   "source": [
    "values = [x.value() for x in x.values()]\n",
    "values"
   ]
  },
  {
   "cell_type": "code",
   "execution_count": 21,
   "metadata": {},
   "outputs": [
    {
     "data": {
      "text/plain": [
       "[0.012,\n",
       " 0.0,\n",
       " 0.0,\n",
       " 0.0,\n",
       " 0.03,\n",
       " 0.0,\n",
       " 0.028,\n",
       " 0.0,\n",
       " 0.0,\n",
       " 0.0,\n",
       " 0.914,\n",
       " 0.0,\n",
       " 0.016,\n",
       " 0.0,\n",
       " 0.0,\n",
       " 0.0]"
      ]
     },
     "execution_count": 21,
     "metadata": {},
     "output_type": "execute_result"
    }
   ],
   "source": [
    "piOptimal = [value / sum(values) for value in values]\n",
    "piOptimal"
   ]
  },
  {
   "cell_type": "code",
   "execution_count": 37,
   "metadata": {},
   "outputs": [],
   "source": [
    "currentRecc = [0, 0.0768, 0, 0.35789, 0.01053, 0, 0, 0, 0, 0, 0, 0.04211, 0, 0, 0.16842, 0.34737]"
   ]
  },
  {
   "cell_type": "code",
   "execution_count": 38,
   "metadata": {},
   "outputs": [],
   "source": [
    "w = piOptimal"
   ]
  },
  {
   "cell_type": "code",
   "execution_count": 39,
   "metadata": {},
   "outputs": [
    {
     "data": {
      "text/plain": [
       "{'PRIME RIB': 0.914,\n",
       " 'FAMILY MEAL': 0.03,\n",
       " 'HOMESTYLE MEATLOAF': 0.028,\n",
       " 'ROASTED TURKEY BREAST': 0.016,\n",
       " 'BABY BACK RIBS': 0.012,\n",
       " 'CHICKEN CARVER SANDWICH': 0.0,\n",
       " 'CHICKEN POT PIE': 0.0,\n",
       " 'CHICKEN SALAD SANDWICH': 0.0,\n",
       " 'HALF ROTISSERIE CHICKEN': 0.0,\n",
       " 'MEATLOAF SANDWICH': 0.0,\n",
       " 'NASHVILLE HOT CHICKEN SANDWICH': 0.0,\n",
       " 'NASHVILLE HOT CRISPY CHICKEN': 0.0,\n",
       " 'QUARTER WHITE ROTISSERIE CHICKEN': 0.0,\n",
       " 'THREE PIECE DARK ROTISSERIE CHICKEN': 0.0,\n",
       " 'TURKEY CARVER SANDWICH': 0.0,\n",
       " 'ROTISSERIE CHICKEN NOODLE SOUP': 0.0}"
      ]
     },
     "execution_count": 39,
     "metadata": {},
     "output_type": "execute_result"
    }
   ],
   "source": [
    "a = { menuItems[i]: w[i] for i in range(len(menuItems)) }\n",
    "a = [item for item in a.items()]\n",
    "a.sort(key=lambda _: _[1], reverse=True)\n",
    "a = { key: value for (key, value) in a }\n",
    "a"
   ]
  },
  {
   "cell_type": "code",
   "execution_count": 41,
   "metadata": {},
   "outputs": [
    {
     "data": {
      "text/plain": [
       "{'PRIME RIB': 0.914,\n",
       " 'CHICKEN SALAD SANDWICH': 0.35789,\n",
       " 'ROTISSERIE CHICKEN NOODLE SOUP': 0.34737,\n",
       " 'TURKEY CARVER SANDWICH': 0.16842,\n",
       " 'CHICKEN CARVER SANDWICH': 0.0768,\n",
       " 'QUARTER WHITE ROTISSERIE CHICKEN': 0.04211,\n",
       " 'FAMILY MEAL': 0.04053,\n",
       " 'HOMESTYLE MEATLOAF': 0.028,\n",
       " 'ROASTED TURKEY BREAST': 0.016,\n",
       " 'BABY BACK RIBS': 0.012,\n",
       " 'CHICKEN POT PIE': 0.0,\n",
       " 'HALF ROTISSERIE CHICKEN': 0.0,\n",
       " 'MEATLOAF SANDWICH': 0.0,\n",
       " 'NASHVILLE HOT CHICKEN SANDWICH': 0.0,\n",
       " 'NASHVILLE HOT CRISPY CHICKEN': 0.0,\n",
       " 'THREE PIECE DARK ROTISSERIE CHICKEN': 0.0}"
      ]
     },
     "execution_count": 41,
     "metadata": {},
     "output_type": "execute_result"
    }
   ],
   "source": [
    "b = { menuItems[i]: w[i] + currentRecc[i] for i in range(len(menuItems)) }\n",
    "b = [item for item in b.items()]\n",
    "b.sort(key=lambda _: _[1], reverse=True)\n",
    "b = { key: value for (key, value) in b }\n",
    "b"
   ]
  },
  {
   "cell_type": "code",
   "execution_count": null,
   "metadata": {},
   "outputs": [],
   "source": []
  }
 ],
 "metadata": {
  "interpreter": {
   "hash": "24dcdd950cd707d7ff5fe8a4f914185fe97cb5fdc83bcc4144ddf80dcd091cfc"
  },
  "kernelspec": {
   "display_name": "Python 3.10.2 ('env': venv)",
   "language": "python",
   "name": "python3"
  },
  "language_info": {
   "codemirror_mode": {
    "name": "ipython",
    "version": 3
   },
   "file_extension": ".py",
   "mimetype": "text/x-python",
   "name": "python",
   "nbconvert_exporter": "python",
   "pygments_lexer": "ipython3",
   "version": "3.10.2"
  },
  "orig_nbformat": 4
 },
 "nbformat": 4,
 "nbformat_minor": 2
}
